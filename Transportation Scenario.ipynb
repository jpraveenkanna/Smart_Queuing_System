{
 "cells": [
  {
   "cell_type": "code",
   "execution_count": 35,
   "metadata": {},
   "outputs": [
    {
     "name": "stdout",
     "output_type": "stream",
     "text": [
      "env: PATH=/opt/conda/bin:/opt/spark-2.4.3-bin-hadoop2.7/bin:/opt/conda/bin:/usr/local/sbin:/usr/local/bin:/usr/sbin:/usr/bin:/sbin:/bin:/opt/intel_devcloud_support\n"
     ]
    }
   ],
   "source": [
    "#Setting up path in Intel Dev Cloud\n",
    "%env PATH=/opt/conda/bin:/opt/spark-2.4.3-bin-hadoop2.7/bin:/opt/conda/bin:/usr/local/sbin:/usr/local/bin:/usr/sbin:/usr/bin:/sbin:/bin:/opt/intel_devcloud_support\n",
    "import os\n",
    "import sys\n",
    "\n",
    "\n",
    "sys.path.insert(0, os.path.abspath('/opt/intel_devcloud_support'))\n",
    "sys.path.insert(0, os.path.abspath('/opt/intel'))"
   ]
  },
  {
   "cell_type": "markdown",
   "metadata": {
    "slideshow": {
     "slide_type": "-"
    }
   },
   "source": [
    "Testing on <a href=\"https://software.intel.com/en-us/iot/hardware/iei-tank-dev-kit-core\">IEI* TANK AIOT DEVELOPER KIT</a>\n",
    "\n",
    "List of devices available to test are available <a href=\"https://devcloud.intel.com/edge/get_started/devcloud/\">here</a>\n"
   ]
  },
  {
   "cell_type": "code",
   "execution_count": 57,
   "metadata": {},
   "outputs": [],
   "source": [
    "#Creating a function to submit job\n",
    "model_path = '/data/models/intel/person-detection-retail-0013/FP16/person-detection-retail-0013'\n",
    "video_path = '/data/resources/transportation.mp4'\n",
    "queue_param = '/data/queue_param/transportation.npy'\n",
    "Max_people = 4\n",
    "\n",
    "def submit_job(device,node_name):\n",
    "    device_name = device\n",
    "    if device_name.startswith('HETERO:FPGA'):\n",
    "        device_name = 'FPGA'\n",
    "        \n",
    "    \n",
    "    Output_path = '/output/results/transportation/'+ device_name\n",
    "    flag = '{} {} {} {} {} {}'.format(model_path,device,video_path,queue_param,Output_path,Max_people)\n",
    "    \n",
    "    job_name = \"Transportation\"+device_name\n",
    "    \n",
    "    job_ID = !qsub queue_job.sh -l nodes=1:{node_name} -d . -F \"{flag}\" -N job_name\n",
    "\n",
    "    return job_ID\n"
   ]
  },
  {
   "cell_type": "markdown",
   "metadata": {},
   "source": [
    "<h2>1. Submitting a job to run on CPU - \n",
    "<a href=\"https://ark.intel.com/products/88186/Intel-Core-i5-6500TE-Processor-6M-Cache-up-to-3-30-GHz-\">Intel® Core™ i5-6500TE Processor</a></h2>"
   ]
  },
  {
   "cell_type": "code",
   "execution_count": 58,
   "metadata": {},
   "outputs": [
    {
     "name": "stdout",
     "output_type": "stream",
     "text": [
      "CPU:  ['5oxCC4hC0wVZ92Z0ZsdwUI0G0l0Z82zB']\n"
     ]
    }
   ],
   "source": [
    "CPU_job_ID = submit_job('CPU', 'tank-870:i5-6500te')\n",
    "print(\"CPU: \",CPU_job_ID)"
   ]
  },
  {
   "cell_type": "code",
   "execution_count": 59,
   "metadata": {},
   "outputs": [],
   "source": [
    "import liveQStat\n",
    "import get_results\n",
    "import videoHtml"
   ]
  },
  {
   "cell_type": "code",
   "execution_count": 39,
   "metadata": {},
   "outputs": [],
   "source": [
    "#Checking Job status\n",
    "liveQStat.liveQStat()"
   ]
  },
  {
   "cell_type": "code",
   "execution_count": 60,
   "metadata": {},
   "outputs": [
    {
     "name": "stdout",
     "output_type": "stream",
     "text": [
      "getResults() is blocking until results of the job (id:5oxCC4hC0wVZ92Z0ZsdwUI0G0l0Z82zB) are ready.\n",
      "Please wait..........................................Success!\n",
      "output.tgz was downloaded in the same folder as this notebook.\n"
     ]
    }
   ],
   "source": [
    "#retrieving job result\n",
    "get_results.getResults(CPU_job_ID[0], filename='output.tgz', blocking=True)"
   ]
  },
  {
   "cell_type": "code",
   "execution_count": 61,
   "metadata": {},
   "outputs": [],
   "source": [
    "#Unpacking output files \n",
    "\n",
    "!tar zxf output.tgz\n",
    "\n"
   ]
  },
  {
   "cell_type": "code",
   "execution_count": 62,
   "metadata": {},
   "outputs": [
    {
     "name": "stdout",
     "output_type": "stream",
     "text": [
      "person_detect.py:50: DeprecationWarning: Reading network using constructor is deprecated. Please, use IECore.read_network() method instead\r\n",
      "  self.model=IENetwork(self.model_structure, self.model_weights)\r\n"
     ]
    }
   ],
   "source": [
    "#Viewing error log\n",
    "!cat stderr.log"
   ]
  },
  {
   "cell_type": "code",
   "execution_count": null,
   "metadata": {},
   "outputs": [],
   "source": [
    "#Viewing output video\n",
    "\n",
    "videoHtml.videoHTML('transportation CPU', ['results/transportation/CPU/output_video.mp4'])"
   ]
  },
  {
   "cell_type": "code",
   "execution_count": null,
   "metadata": {},
   "outputs": [],
   "source": []
  },
  {
   "cell_type": "markdown",
   "metadata": {},
   "source": [
    "<h2>2. Submitting a job to run on Integrated GPU - \n",
    "<a href=\"https://ark.intel.com/products/88186/Intel-Core-i5-6500TE-Processor-6M-Cache-up-to-3-30-GHz-\">Intel® HD Graphics 530</a></h2>"
   ]
  },
  {
   "cell_type": "code",
   "execution_count": 64,
   "metadata": {},
   "outputs": [
    {
     "name": "stdout",
     "output_type": "stream",
     "text": [
      "GPU:  ['R5fvB2y7VEJJRTA0ogIOrEDeTE5yZ70s']\n",
      "getResults() is blocking until results of the job (id:R5fvB2y7VEJJRTA0ogIOrEDeTE5yZ70s) are ready.\n",
      "Please wait...............................................................................................Success!\n",
      "output.tgz was downloaded in the same folder as this notebook.\n"
     ]
    }
   ],
   "source": [
    "job_ID = submit_job('GPU', 'tank-870:i5-6500te:intel-hd-530')\n",
    "print(\"GPU: \",job_ID)\n",
    "\n",
    "#retrieving job result\n",
    "get_results.getResults(job_ID[0], filename='output.tgz', blocking=True)\n",
    "\n",
    "#Unpacking output files and viewing stdout.log\n",
    "!tar zxf output.tgz"
   ]
  },
  {
   "cell_type": "code",
   "execution_count": null,
   "metadata": {},
   "outputs": [],
   "source": [
    "#Viewing output video\n",
    "\n",
    "videoHtml.videoHTML('transportation GPU', ['results/transportation/GPU/output_video.mp4'])"
   ]
  },
  {
   "cell_type": "code",
   "execution_count": null,
   "metadata": {},
   "outputs": [],
   "source": []
  },
  {
   "cell_type": "markdown",
   "metadata": {},
   "source": [
    "<h2>3. Submitting a job to run on VPU - <a href=\"https://software.intel.com/en-us/neural-compute-stick\">Intel Neural Compute Stick 2</a></h2>"
   ]
  },
  {
   "cell_type": "code",
   "execution_count": 66,
   "metadata": {},
   "outputs": [
    {
     "name": "stdout",
     "output_type": "stream",
     "text": [
      "VPU:  ['3D2wMKAcHfJQM53bArGuwX9uhjZ9j804']\n",
      "getResults() is blocking until results of the job (id:3D2wMKAcHfJQM53bArGuwX9uhjZ9j804) are ready.\n",
      "Please wait.......................................................................Success!\n",
      "output.tgz was downloaded in the same folder as this notebook.\n"
     ]
    }
   ],
   "source": [
    "job_ID = submit_job('MYRIAD', 'tank-870:i5-6500te:intel-ncs2')\n",
    "print(\"VPU: \",job_ID)\n",
    "\n",
    "#retrieving job result\n",
    "get_results.getResults(job_ID[0], filename='output.tgz', blocking=True)\n",
    "\n",
    "#Unpacking output files and viewing stdout.log\n",
    "!tar zxf output.tgz"
   ]
  },
  {
   "cell_type": "code",
   "execution_count": null,
   "metadata": {},
   "outputs": [],
   "source": [
    "#Viewing output video\n",
    "\n",
    "videoHtml.videoHTML('transportation VPU', ['results/transportation/MYRIAD/output_video.mp4'])"
   ]
  },
  {
   "cell_type": "code",
   "execution_count": null,
   "metadata": {},
   "outputs": [],
   "source": []
  },
  {
   "cell_type": "markdown",
   "metadata": {},
   "source": [
    "<h2>4. Submitting a job to run on FPGA - <a href=\"https://www.ieiworld.com/mustang-f100/en/\">IEI Mustang-F100-A10 </a></h2>"
   ]
  },
  {
   "cell_type": "code",
   "execution_count": 68,
   "metadata": {},
   "outputs": [
    {
     "name": "stdout",
     "output_type": "stream",
     "text": [
      "FPGA:  ['K2sabnBWGjeHKdJeFuVRrcRTuq7gefN0']\n",
      "getResults() is blocking until results of the job (id:K2sabnBWGjeHKdJeFuVRrcRTuq7gefN0) are ready.\n",
      "Please wait...............................................................................................................................................Success!\n",
      "output.tgz was downloaded in the same folder as this notebook.\n"
     ]
    }
   ],
   "source": [
    "job_ID = submit_job('HETERO:FPGA,CPU', 'tank-870:i5-6500te:iei-mustang-f100-a10')\n",
    "print(\"FPGA: \",job_ID)\n",
    "\n",
    "#retrieving job result\n",
    "get_results.getResults(job_ID[0], filename='output.tgz', blocking=True)\n",
    "\n",
    "#Unpacking output files and viewing stdout.log\n",
    "!tar zxf output.tgz"
   ]
  },
  {
   "cell_type": "code",
   "execution_count": null,
   "metadata": {},
   "outputs": [],
   "source": [
    "#Viewing output video\n",
    "\n",
    "videoHtml.videoHTML('transportation FPGA', ['results/transportation/FPGA/output_video.mp4'])"
   ]
  },
  {
   "cell_type": "code",
   "execution_count": null,
   "metadata": {},
   "outputs": [],
   "source": []
  },
  {
   "cell_type": "markdown",
   "metadata": {},
   "source": [
    "# Assess Performance"
   ]
  },
  {
   "cell_type": "code",
   "execution_count": 70,
   "metadata": {},
   "outputs": [],
   "source": [
    "import matplotlib.pyplot as plt\n",
    "\n",
    "device_list=['CPU', 'GPU', 'FPGA', 'MYRIAD']\n",
    "inference_time=[]\n",
    "fps=[]\n",
    "model_load_time=[]\n",
    "\n",
    "for device in device_list:\n",
    "    with open('results/transportation/'+device+'/stats.txt', 'r') as f:\n",
    "        inference_time.append(float(f.readline().split(\"\\n\")[0]))\n",
    "        fps.append(float(f.readline().split(\"\\n\")[0]))\n",
    "        model_load_time.append(float(f.readline().split(\"\\n\")[0]))\n",
    "        \n"
   ]
  },
  {
   "cell_type": "code",
   "execution_count": 71,
   "metadata": {},
   "outputs": [
    {
     "data": {
      "image/png": "[encoded data removed]",
      "text/plain": [
       "<matplotlib.figure.Figure at 0x7f7afbaef128>"
      ]
     },
     "metadata": {
      "needs_background": "light"
     },
     "output_type": "display_data"
    }
   ],
   "source": [
    "import pandas as pd\n",
    "\n",
    "plt.rc('figure', figsize=(15, 8))\n",
    "index = device_list\n",
    "df = pd.DataFrame({'Inference Time': inference_time,\n",
    "                   'FPS': fps,\n",
    "                   'Model Load Time': model_load_time}, index=index)\n",
    "ax = df.plot.bar(rot=0)\n",
    "\n",
    "\n",
    "plt.xlabel(\"Device Used\")\n",
    "plt.ylabel(\"Time in Seconds\")\n",
    "plt.show()"
   ]
  },
  {
   "cell_type": "code",
   "execution_count": 72,
   "metadata": {},
   "outputs": [
    {
     "data": {
      "text/html": [
       "<div>\n",
       "<style scoped>\n",
       "    .dataframe tbody tr th:only-of-type {\n",
       "        vertical-align: middle;\n",
       "    }\n",
       "\n",
       "    .dataframe tbody tr th {\n",
       "        vertical-align: top;\n",
       "    }\n",
       "\n",
       "    .dataframe thead th {\n",
       "        text-align: right;\n",
       "    }\n",
       "</style>\n",
       "<table border=\"1\" class=\"dataframe\">\n",
       "  <thead>\n",
       "    <tr style=\"text-align: right;\">\n",
       "      <th></th>\n",
       "      <th>Inference Time</th>\n",
       "      <th>FPS</th>\n",
       "      <th>Model Load Time</th>\n",
       "    </tr>\n",
       "  </thead>\n",
       "  <tbody>\n",
       "    <tr>\n",
       "      <th>CPU</th>\n",
       "      <td>17.7</td>\n",
       "      <td>18.644068</td>\n",
       "      <td>1.606816</td>\n",
       "    </tr>\n",
       "    <tr>\n",
       "      <th>GPU</th>\n",
       "      <td>15.1</td>\n",
       "      <td>21.854305</td>\n",
       "      <td>56.791703</td>\n",
       "    </tr>\n",
       "    <tr>\n",
       "      <th>FPGA</th>\n",
       "      <td>84.4</td>\n",
       "      <td>3.909953</td>\n",
       "      <td>51.415828</td>\n",
       "    </tr>\n",
       "    <tr>\n",
       "      <th>MYRIAD</th>\n",
       "      <td>53.0</td>\n",
       "      <td>6.226415</td>\n",
       "      <td>2.936996</td>\n",
       "    </tr>\n",
       "  </tbody>\n",
       "</table>\n",
       "</div>"
      ],
      "text/plain": [
       "        Inference Time        FPS  Model Load Time\n",
       "CPU               17.7  18.644068         1.606816\n",
       "GPU               15.1  21.854305        56.791703\n",
       "FPGA              84.4   3.909953        51.415828\n",
       "MYRIAD            53.0   6.226415         2.936996"
      ]
     },
     "execution_count": 72,
     "metadata": {},
     "output_type": "execute_result"
    }
   ],
   "source": [
    "df"
   ]
  },
  {
   "cell_type": "code",
   "execution_count": null,
   "metadata": {},
   "outputs": [],
   "source": [
    "#viewing stdout.log\n",
    "\n",
    "!cat stdout.log\n"
   ]
  },
  {
   "cell_type": "code",
   "execution_count": null,
   "metadata": {},
   "outputs": [],
   "source": []
  }
 ],
 "metadata": {
  "celltoolbar": "Slideshow",
  "kernelspec": {
   "display_name": "Python 3",
   "language": "python",
   "name": "python3"
  },
  "language_info": {
   "codemirror_mode": {
    "name": "ipython",
    "version": 3
   },
   "file_extension": ".py",
   "mimetype": "text/x-python",
   "name": "python",
   "nbconvert_exporter": "python",
   "pygments_lexer": "ipython3",
   "version": "3.6.3"
  }
 },
 "nbformat": 4,
 "nbformat_minor": 2
}
