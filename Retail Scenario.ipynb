{
 "cells": [
  {
   "cell_type": "code",
   "execution_count": 1,
   "metadata": {},
   "outputs": [
    {
     "name": "stdout",
     "output_type": "stream",
     "text": [
      "env: PATH=/opt/conda/bin:/opt/spark-2.4.3-bin-hadoop2.7/bin:/opt/conda/bin:/usr/local/sbin:/usr/local/bin:/usr/sbin:/usr/bin:/sbin:/bin:/opt/intel_devcloud_support\n"
     ]
    }
   ],
   "source": [
    "#Setting up path in Intel Dev Cloud\n",
    "%env PATH=/opt/conda/bin:/opt/spark-2.4.3-bin-hadoop2.7/bin:/opt/conda/bin:/usr/local/sbin:/usr/local/bin:/usr/sbin:/usr/bin:/sbin:/bin:/opt/intel_devcloud_support\n",
    "import os\n",
    "import sys\n",
    "\n",
    "\n",
    "sys.path.insert(0, os.path.abspath('/opt/intel_devcloud_support'))\n",
    "sys.path.insert(0, os.path.abspath('/opt/intel'))"
   ]
  },
  {
   "cell_type": "markdown",
   "metadata": {
    "slideshow": {
     "slide_type": "-"
    }
   },
   "source": [
    "Testing on <a href=\"https://software.intel.com/en-us/iot/hardware/iei-tank-dev-kit-core\">IEI* TANK AIOT DEVELOPER KIT</a>\n",
    "\n",
    "List of devices available to test are available <a href=\"https://devcloud.intel.com/edge/get_started/devcloud/\">here</a>\n"
   ]
  },
  {
   "cell_type": "code",
   "execution_count": 2,
   "metadata": {},
   "outputs": [],
   "source": [
    "#Creating a function to submit job\n",
    "model_path = '/data/models/intel/person-detection-retail-0013/FP16/person-detection-retail-0013'\n",
    "video_path = '/data/resources/retail.mp4'\n",
    "queue_param = '/data/queue_param/retail.npy'\n",
    "Max_people = 2\n",
    "\n",
    "def submit_job(device,node_name):\n",
    "    device_name = device\n",
    "    if device_name.startswith('HETERO:FPGA'):\n",
    "        device_name = 'FPGA'\n",
    "        \n",
    "    \n",
    "    Output_path = '/output/results/retail/'+ device_name\n",
    "    flag = '{} {} {} {} {} {}'.format(model_path,device,video_path,queue_param,Output_path,Max_people)\n",
    "    \n",
    "    job_name = \"retail_\"+device_name\n",
    "    \n",
    "    job_ID = !qsub queue_job.sh -l nodes=1:{node_name} -d . -F \"{flag}\" -N job_name\n",
    "\n",
    "    return job_ID\n"
   ]
  },
  {
   "cell_type": "markdown",
   "metadata": {},
   "source": [
    "<h2>1. Submitting a job to run on CPU - \n",
    "<a href=\"https://ark.intel.com/products/88186/Intel-Core-i5-6500TE-Processor-6M-Cache-up-to-3-30-GHz-\">Intel® Core™ i5-6500TE Processor</a></h2>"
   ]
  },
  {
   "cell_type": "code",
   "execution_count": 3,
   "metadata": {},
   "outputs": [
    {
     "name": "stdout",
     "output_type": "stream",
     "text": [
      "CPU:  ['vRCPWchN5ERJ2OeLMumzdhFu7yPzm9dU']\n"
     ]
    }
   ],
   "source": [
    "CPU_job_ID = submit_job('CPU', 'tank-870:i5-6500te')\n",
    "print(\"CPU: \",CPU_job_ID)"
   ]
  },
  {
   "cell_type": "code",
   "execution_count": 5,
   "metadata": {},
   "outputs": [],
   "source": [
    "import liveQStat\n",
    "import get_results\n",
    "import videoHtml"
   ]
  },
  {
   "cell_type": "code",
   "execution_count": 7,
   "metadata": {},
   "outputs": [],
   "source": [
    "#Checking Job status\n",
    "liveQStat.liveQStat()"
   ]
  },
  {
   "cell_type": "code",
   "execution_count": 6,
   "metadata": {},
   "outputs": [
    {
     "name": "stdout",
     "output_type": "stream",
     "text": [
      "getResults() is blocking until results of the job (id:vRCPWchN5ERJ2OeLMumzdhFu7yPzm9dU) are ready.\n",
      "Please wait................Success!\n",
      "output.tgz was downloaded in the same folder as this notebook.\n"
     ]
    }
   ],
   "source": [
    "#retrieving job result\n",
    "get_results.getResults(CPU_job_ID[0], filename='output.tgz', blocking=True)"
   ]
  },
  {
   "cell_type": "code",
   "execution_count": null,
   "metadata": {},
   "outputs": [],
   "source": [
    "#Unpacking output files and viewing stdout.log\n",
    "\n",
    "!tar zxf output.tgz\n",
    "!cat stdout.log\n"
   ]
  },
  {
   "cell_type": "code",
   "execution_count": null,
   "metadata": {},
   "outputs": [],
   "source": [
    "#Viewing error log\n",
    "!cat stderr.log"
   ]
  },
  {
   "cell_type": "code",
   "execution_count": null,
   "metadata": {},
   "outputs": [],
   "source": [
    "#Viewing output video\n",
    "\n",
    "videoHtml.videoHTML('Retail CPU', ['results/retail/CPU/output_video.mp4'])"
   ]
  },
  {
   "cell_type": "code",
   "execution_count": null,
   "metadata": {},
   "outputs": [],
   "source": []
  },
  {
   "cell_type": "markdown",
   "metadata": {},
   "source": [
    "<h2>2. Submitting a job to run on Integrated GPU - \n",
    "<a href=\"https://ark.intel.com/products/88186/Intel-Core-i5-6500TE-Processor-6M-Cache-up-to-3-30-GHz-\">Intel® HD Graphics 530</a></h2>"
   ]
  },
  {
   "cell_type": "code",
   "execution_count": 13,
   "metadata": {},
   "outputs": [
    {
     "name": "stdout",
     "output_type": "stream",
     "text": [
      "CPU:  ['dtdp3X7bwoWYwMJ8yWUGwQApBqdKD5US']\n",
      "getResults() is blocking until results of the job (id:dtdp3X7bwoWYwMJ8yWUGwQApBqdKD5US) are ready.\n",
      "Please wait.......................................................................Success!\n",
      "output.tgz was downloaded in the same folder as this notebook.\n"
     ]
    }
   ],
   "source": [
    "job_ID = submit_job('GPU', 'tank-870:i5-6500te:intel-hd-530')\n",
    "print(\"GPU: \",job_ID)\n",
    "\n",
    "#retrieving job result\n",
    "get_results.getResults(job_ID[0], filename='output.tgz', blocking=True)\n",
    "\n",
    "#Unpacking output files and viewing stdout.log\n",
    "!tar zxf output.tgz"
   ]
  },
  {
   "cell_type": "code",
   "execution_count": null,
   "metadata": {},
   "outputs": [],
   "source": [
    "#Viewing output video\n",
    "\n",
    "videoHtml.videoHTML('Retail GPU', ['results/retail/GPU/output_video.mp4'])"
   ]
  },
  {
   "cell_type": "code",
   "execution_count": null,
   "metadata": {},
   "outputs": [],
   "source": []
  },
  {
   "cell_type": "markdown",
   "metadata": {},
   "source": [
    "<h2>3. Submitting a job to run on VPU - <a href=\"https://software.intel.com/en-us/neural-compute-stick\">Intel Neural Compute Stick 2</a></h2>"
   ]
  },
  {
   "cell_type": "code",
   "execution_count": 15,
   "metadata": {},
   "outputs": [
    {
     "name": "stdout",
     "output_type": "stream",
     "text": [
      "VPU:  ['oEyEfDY8jmqz5PF4IG5tpzWB1T4vjNxd']\n",
      "getResults() is blocking until results of the job (id:oEyEfDY8jmqz5PF4IG5tpzWB1T4vjNxd) are ready.\n",
      "Please wait................................................Success!\n",
      "output.tgz was downloaded in the same folder as this notebook.\n"
     ]
    }
   ],
   "source": [
    "job_ID = submit_job('MYRIAD', 'tank-870:i5-6500te:intel-ncs2')\n",
    "print(\"VPU: \",job_ID)\n",
    "\n",
    "#retrieving job result\n",
    "get_results.getResults(job_ID[0], filename='output.tgz', blocking=True)\n",
    "\n",
    "#Unpacking output files and viewing stdout.log\n",
    "!tar zxf output.tgz"
   ]
  },
  {
   "cell_type": "code",
   "execution_count": null,
   "metadata": {},
   "outputs": [],
   "source": [
    "#Viewing output video\n",
    "\n",
    "videoHtml.videoHTML('Retail VPU', ['results/retail/MYRIAD/output_video.mp4'])"
   ]
  },
  {
   "cell_type": "code",
   "execution_count": null,
   "metadata": {},
   "outputs": [],
   "source": []
  },
  {
   "cell_type": "markdown",
   "metadata": {},
   "source": [
    "<h2>4. Submitting a job to run on FPGA - <a href=\"https://www.ieiworld.com/mustang-f100/en/\">IEI Mustang-F100-A10 </a></h2>"
   ]
  },
  {
   "cell_type": "code",
   "execution_count": 21,
   "metadata": {},
   "outputs": [
    {
     "name": "stdout",
     "output_type": "stream",
     "text": [
      "FPGA:  ['3prpkZPyFQx55IvDsrU9AxMhvoosASCj']\n",
      "getResults() is blocking until results of the job (id:3prpkZPyFQx55IvDsrU9AxMhvoosASCj) are ready.\n",
      "Please wait................................................Success!\n",
      "output.tgz was downloaded in the same folder as this notebook.\n"
     ]
    }
   ],
   "source": [
    "job_ID = submit_job('HETERO:FPGA,CPU', 'tank-870:i5-6500te:iei-mustang-f100-a10')\n",
    "print(\"FPGA: \",job_ID)\n",
    "\n",
    "#retrieving job result\n",
    "get_results.getResults(job_ID[0], filename='output.tgz', blocking=True)\n",
    "\n",
    "#Unpacking output files and viewing stdout.log\n",
    "!tar zxf output.tgz"
   ]
  },
  {
   "cell_type": "code",
   "execution_count": null,
   "metadata": {},
   "outputs": [],
   "source": [
    "#Viewing output video\n",
    "\n",
    "videoHtml.videoHTML('Retail FPGA', ['results/retail/FPGA/output_video.mp4'])"
   ]
  },
  {
   "cell_type": "code",
   "execution_count": null,
   "metadata": {},
   "outputs": [],
   "source": []
  },
  {
   "cell_type": "markdown",
   "metadata": {},
   "source": [
    "# Assess Performance"
   ]
  },
  {
   "cell_type": "code",
   "execution_count": 1,
   "metadata": {},
   "outputs": [],
   "source": [
    "import matplotlib.pyplot as plt\n",
    "\n",
    "device_list=['CPU', 'GPU', 'FPGA', 'MYRIAD']\n",
    "inference_time=[]\n",
    "fps=[]\n",
    "model_load_time=[]\n",
    "\n",
    "for device in device_list:\n",
    "    with open('results/retail/'+device+'/stats.txt', 'r') as f:\n",
    "        inference_time.append(float(f.readline().split(\"\\n\")[0]))\n",
    "        fps.append(float(f.readline().split(\"\\n\")[0]))\n",
    "        model_load_time.append(float(f.readline().split(\"\\n\")[0]))\n",
    "        \n"
   ]
  },
  {
   "cell_type": "code",
   "execution_count": 31,
   "metadata": {},
   "outputs": [
    {
     "data": {
      "image/png": "[encoded data removed]",
      "text/plain": [
       "<matplotlib.figure.Figure at 0x7f7afbddb390>"
      ]
     },
     "metadata": {
      "needs_background": "light"
     },
     "output_type": "display_data"
    }
   ],
   "source": [
    "import pandas as pd\n",
    "\n",
    "plt.rc('figure', figsize=(15, 8))\n",
    "index = device_list\n",
    "df = pd.DataFrame({'Inference Time': inference_time,\n",
    "                   'FPS': fps,\n",
    "                   'Model Load Time': model_load_time}, index=index)\n",
    "ax = df.plot.bar(rot=0)\n",
    "\n",
    "\n",
    "plt.xlabel(\"Device Used\")\n",
    "plt.ylabel(\"Time in Seconds\")\n",
    "plt.show()"
   ]
  },
  {
   "cell_type": "code",
   "execution_count": 34,
   "metadata": {},
   "outputs": [
    {
     "data": {
      "text/html": [
       "<div>\n",
       "<style scoped>\n",
       "    .dataframe tbody tr th:only-of-type {\n",
       "        vertical-align: middle;\n",
       "    }\n",
       "\n",
       "    .dataframe tbody tr th {\n",
       "        vertical-align: top;\n",
       "    }\n",
       "\n",
       "    .dataframe thead th {\n",
       "        text-align: right;\n",
       "    }\n",
       "</style>\n",
       "<table border=\"1\" class=\"dataframe\">\n",
       "  <thead>\n",
       "    <tr style=\"text-align: right;\">\n",
       "      <th></th>\n",
       "      <th>Inference Time</th>\n",
       "      <th>FPS</th>\n",
       "      <th>Model Load Time</th>\n",
       "    </tr>\n",
       "  </thead>\n",
       "  <tbody>\n",
       "    <tr>\n",
       "      <th>CPU</th>\n",
       "      <td>4.7</td>\n",
       "      <td>35.319149</td>\n",
       "      <td>1.701377</td>\n",
       "    </tr>\n",
       "    <tr>\n",
       "      <th>GPU</th>\n",
       "      <td>4.3</td>\n",
       "      <td>38.604651</td>\n",
       "      <td>56.161894</td>\n",
       "    </tr>\n",
       "    <tr>\n",
       "      <th>FPGA</th>\n",
       "      <td>4.3</td>\n",
       "      <td>38.604651</td>\n",
       "      <td>30.462669</td>\n",
       "    </tr>\n",
       "    <tr>\n",
       "      <th>MYRIAD</th>\n",
       "      <td>26.3</td>\n",
       "      <td>6.311787</td>\n",
       "      <td>2.927683</td>\n",
       "    </tr>\n",
       "  </tbody>\n",
       "</table>\n",
       "</div>"
      ],
      "text/plain": [
       "        Inference Time        FPS  Model Load Time\n",
       "CPU                4.7  35.319149         1.701377\n",
       "GPU                4.3  38.604651        56.161894\n",
       "FPGA               4.3  38.604651        30.462669\n",
       "MYRIAD            26.3   6.311787         2.927683"
      ]
     },
     "execution_count": 34,
     "metadata": {},
     "output_type": "execute_result"
    }
   ],
   "source": [
    "df"
   ]
  },
  {
   "cell_type": "code",
   "execution_count": null,
   "metadata": {},
   "outputs": [],
   "source": []
  }
 ],
 "metadata": {
  "celltoolbar": "Slideshow",
  "kernelspec": {
   "display_name": "Python 3",
   "language": "python",
   "name": "python3"
  },
  "language_info": {
   "codemirror_mode": {
    "name": "ipython",
    "version": 3
   },
   "file_extension": ".py",
   "mimetype": "text/x-python",
   "name": "python",
   "nbconvert_exporter": "python",
   "pygments_lexer": "ipython3",
   "version": "3.6.3"
  }
 },
 "nbformat": 4,
 "nbformat_minor": 2
}
